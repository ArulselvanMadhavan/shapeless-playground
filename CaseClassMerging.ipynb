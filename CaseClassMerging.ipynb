{
 "cells": [
  {
   "cell_type": "code",
   "execution_count": 1,
   "metadata": {},
   "outputs": [
    {
     "data": {
      "text/plain": [
       "\u001b[32mimport \u001b[39m\u001b[36mshapeless._\n",
       "\u001b[39m\n",
       "\u001b[32mimport \u001b[39m\u001b[36mshapeless.syntax.singleton._\n",
       "\u001b[39m\n",
       "\u001b[32mimport \u001b[39m\u001b[36mshapeless.labelled._\n",
       "\u001b[39m\n",
       "\u001b[32mimport \u001b[39m\u001b[36mshapeless.ops.record.Remover\u001b[39m"
      ]
     },
     "execution_count": 1,
     "metadata": {},
     "output_type": "execute_result"
    }
   ],
   "source": [
    "import shapeless._\n",
    "import shapeless.syntax.singleton._\n",
    "import shapeless.labelled._\n",
    "import shapeless.ops.record.Remover"
   ]
  },
  {
   "cell_type": "code",
   "execution_count": 1,
   "metadata": {},
   "outputs": [],
   "source": [
    "// Talk about Phantom types, Literal Types, FieldType, Records, LabelledGeneric"
   ]
  },
  {
   "cell_type": "code",
   "execution_count": null,
   "metadata": {},
   "outputs": [],
   "source": []
  },
  {
   "cell_type": "code",
   "execution_count": 1,
   "metadata": {},
   "outputs": [],
   "source": [
    "// We'd like to have a merge function, that we want to be able to use it like:\n",
    "// webviewAdId merge nativeAdId"
   ]
  },
  {
   "cell_type": "code",
   "execution_count": null,
   "metadata": {},
   "outputs": [],
   "source": []
  },
  {
   "cell_type": "code",
   "execution_count": 2,
   "metadata": {},
   "outputs": [
    {
     "data": {
      "text/plain": [
       "defined \u001b[32mtrait\u001b[39m \u001b[36mMerger\u001b[39m"
      ]
     },
     "execution_count": 2,
     "metadata": {},
     "output_type": "execute_result"
    }
   ],
   "source": [
    "trait Merger[L <: HList, R <: HList] extends DepFn2[L, R] { \n",
    "    type Out <: HList \n",
    "    def apply(l: L, r: R): Out\n",
    "}"
   ]
  },
  {
   "cell_type": "code",
   "execution_count": 3,
   "metadata": {},
   "outputs": [
    {
     "data": {
      "text/plain": [
       "defined \u001b[32mtrait\u001b[39m \u001b[36mLowPriorityMerger\u001b[39m"
      ]
     },
     "execution_count": 3,
     "metadata": {},
     "output_type": "execute_result"
    }
   ],
   "source": [
    "trait LowPriorityMerger {\n",
    "    type Aux[L <: HList, R <: HList, Out0 <: HList] = Merger[L, R] { type Out = Out0}\n",
    "    implicit def hlist1Merger1[H, T <: HList, R <: HList](implicit mt:Merger[T, R]):Aux[H :: T, R, H :: mt.Out] =\n",
    "      new Merger[H :: T, R] {\n",
    "          type Out = H :: mt.Out\n",
    "          def apply(l : H :: T, r : R): Out = l.head :: mt(l.tail, r)\n",
    "      }\n",
    "}"
   ]
  },
  {
   "cell_type": "code",
   "execution_count": 4,
   "metadata": {},
   "outputs": [
    {
     "data": {
      "text/plain": [
       "defined \u001b[32mobject\u001b[39m \u001b[36mMerger\u001b[39m"
      ]
     },
     "execution_count": 4,
     "metadata": {},
     "output_type": "execute_result"
    }
   ],
   "source": [
    "object Merger extends LowPriorityMerger {\n",
    "\n",
    "    implicit def hnilMerger[R <: HList]:Aux[HNil, R, R] = \n",
    "      new Merger[HNil, R] {\n",
    "          type Out = R\n",
    "          def apply(l: HNil, r: R): R = r\n",
    "      }\n",
    "    \n",
    "    // L - H :: T - (K, V) :: T\n",
    "    implicit def hlistMerger2[K, V, T <: HList, R <: HList , RT <: HList](\n",
    "        implicit rm : Remover.Aux[R, K, (V, RT)],\n",
    "        mt: Merger[T, RT]\n",
    "    ):Aux[FieldType[K, V] :: T, R, FieldType[K, V] :: mt.Out] = \n",
    "    \n",
    "    new Merger[FieldType[K, V] :: T, R] {\n",
    "        type Out = FieldType[K, V] :: mt.Out\n",
    "        def apply(l: FieldType[K, V] :: T, r: R):Out = {\n",
    "            val (rv, rr) = rm(r)\n",
    "            val upd = field[K](rv)\n",
    "            upd :: mt(l.tail, rr)\n",
    "        }\n",
    "    }\n",
    "}"
   ]
  },
  {
   "cell_type": "code",
   "execution_count": 5,
   "metadata": {},
   "outputs": [
    {
     "data": {
      "text/plain": [
       "defined \u001b[32mtrait\u001b[39m \u001b[36mCaseClassMerge\u001b[39m\n",
       "defined \u001b[32mobject\u001b[39m \u001b[36mCaseClassMerge\u001b[39m"
      ]
     },
     "execution_count": 5,
     "metadata": {},
     "output_type": "execute_result"
    }
   ],
   "source": [
    "trait CaseClassMerge[L, R] {\n",
    "    def merge(l:L, r:R):L\n",
    "}\n",
    "object CaseClassMerge {\n",
    "    import ops.record.Merger\n",
    "    // summoner\n",
    "    def apply[L, R](implicit merge: CaseClassMerge[L, R]):CaseClassMerge[L, R] = merge\n",
    "    \n",
    "    implicit def mkCCMerge[L, R, RL <: HList, RR <: HList](\n",
    "        implicit lgen : LabelledGeneric.Aux[L, RL],\n",
    "        rgen : LabelledGeneric.Aux[R, RR],\n",
    "        merger: Merger.Aux[RL, RR, RL]\n",
    "    ) : CaseClassMerge[L, R] = new CaseClassMerge[L, R] {\n",
    "        def merge(l: L, r: R): L = lgen.from(merger(lgen.to(l), rgen.to(r)))\n",
    "    }\n",
    "}"
   ]
  },
  {
   "cell_type": "code",
   "execution_count": 6,
   "metadata": {},
   "outputs": [
    {
     "data": {
      "text/plain": [
       "defined \u001b[32mobject\u001b[39m \u001b[36mmergesyntax\u001b[39m"
      ]
     },
     "execution_count": 6,
     "metadata": {},
     "output_type": "execute_result"
    }
   ],
   "source": [
    "object mergesyntax {\n",
    "    import CaseClassMerge._\n",
    "    implicit class MergeSyntax[L](l: L) {\n",
    "        def merge[R](r:R)(implicit test: CaseClassMerge[L, R]):L = test.merge(l, r)\n",
    "    }\n",
    "}"
   ]
  },
  {
   "cell_type": "code",
   "execution_count": 7,
   "metadata": {},
   "outputs": [
    {
     "data": {
      "text/plain": [
       "defined \u001b[32mclass\u001b[39m \u001b[36mWebviewAdId\u001b[39m\n",
       "defined \u001b[32mclass\u001b[39m \u001b[36mNativeAdId\u001b[39m\n",
       "\u001b[36mwebviewAdId\u001b[39m: \u001b[32mWebviewAdId\u001b[39m = \u001b[33mWebviewAdId\u001b[39m(\u001b[32m\"wbi\"\u001b[39m, \u001b[32m1\u001b[39m, true)\n",
       "\u001b[36mnativeAdId\u001b[39m: \u001b[32mNativeAdId\u001b[39m = \u001b[33mNativeAdId\u001b[39m(\u001b[32m2\u001b[39m, \u001b[32m\"nbi\"\u001b[39m, false)\n",
       "\u001b[32mimport \u001b[39m\u001b[36mmergesyntax._\n",
       "\n",
       "\u001b[39m\n",
       "\u001b[36mres6_5\u001b[39m: \u001b[32mWebviewAdId\u001b[39m = \u001b[33mWebviewAdId\u001b[39m(\u001b[32m\"nbi\"\u001b[39m, \u001b[32m2\u001b[39m, false)"
      ]
     },
     "execution_count": 7,
     "metadata": {},
     "output_type": "execute_result"
    }
   ],
   "source": [
    "// Merge two case classes\n",
    "case class WebviewAdId(id: String, priceType: Int, isWebview: Boolean)\n",
    "case class NativeAdId(priceType:Int, id:String, isWebview:Boolean)\n",
    "val webviewAdId = WebviewAdId(\"wbi\", 1, true)\n",
    "val nativeAdId = NativeAdId(2, \"nbi\", false)\n",
    "import mergesyntax._\n",
    "\n",
    "webviewAdId merge nativeAdId"
   ]
  },
  {
   "cell_type": "code",
   "execution_count": null,
   "metadata": {},
   "outputs": [],
   "source": []
  }
 ],
 "metadata": {
  "kernelspec": {
   "display_name": "Scala",
   "language": "scala",
   "name": "scala"
  },
  "language_info": {
   "codemirror_mode": "text/x-scala",
   "file_extension": ".scala",
   "mimetype": "text/x-scala",
   "name": "scala",
   "nbconvert_exporter": "script",
   "version": "2.12.8"
  }
 },
 "nbformat": 4,
 "nbformat_minor": 2
}
